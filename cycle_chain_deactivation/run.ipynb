{
 "cells": [
  {
   "cell_type": "code",
   "execution_count": null,
   "metadata": {},
   "outputs": [],
   "source": [
    "import os\n",
    "from allocation import Allocation\n",
    "from cycle_chain_deactivation import run_cycle_chain_deactivation\n",
    "from run import import_kidney_data"
   ]
  },
  {
   "cell_type": "code",
   "execution_count": 2,
   "metadata": {},
   "outputs": [],
   "source": [
    "FILENAME = \"aDelorme_Example_EC1.txt\""
   ]
  },
  {
   "cell_type": "code",
   "execution_count": null,
   "metadata": {},
   "outputs": [],
   "source": [
    "instances_file_path = f'../Instance Files/{FILENAME}'\n",
    "data = import_kidney_data(instances_file_path)\n",
    "\n",
    "output_file = f\"{instances_file_path.split('/')[-1].replace('.txt', '')}_SOLUTION.txt\"\n",
    "output_file_path = os.path.join('Solutions', output_file)\n",
    "\n",
    "run_cycle_chain_deactivation(data, output_file_path)"
   ]
  }
 ],
 "metadata": {
  "kernelspec": {
   "display_name": "py_env",
   "language": "python",
   "name": "python3"
  },
  "language_info": {
   "codemirror_mode": {
    "name": "ipython",
    "version": 3
   },
   "file_extension": ".py",
   "mimetype": "text/x-python",
   "name": "python",
   "nbconvert_exporter": "python",
   "pygments_lexer": "ipython3",
   "version": "3.12.5"
  }
 },
 "nbformat": 4,
 "nbformat_minor": 2
}
