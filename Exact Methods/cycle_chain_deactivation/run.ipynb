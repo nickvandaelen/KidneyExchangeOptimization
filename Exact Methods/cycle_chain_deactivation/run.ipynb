{
 "cells": [
  {
   "cell_type": "code",
   "execution_count": null,
   "metadata": {},
   "outputs": [],
   "source": [
    "import os\n",
    "from run import import_kidney_data"
   ]
  },
  {
   "cell_type": "code",
   "execution_count": 2,
   "metadata": {},
   "outputs": [],
   "source": [
    "FILENAME = \"Delorme_50_NDD_Unit_0.txt\""
   ]
  },
  {
   "cell_type": "code",
   "execution_count": null,
   "metadata": {},
   "outputs": [],
   "source": [
    "instances_file_path = f'../Instance Files/{FILENAME}'\n",
    "data = import_kidney_data(instances_file_path)"
   ]
  },
  {
   "cell_type": "code",
   "execution_count": null,
   "metadata": {},
   "outputs": [],
   "source": [
    "from cycle_chain_deactivation import run_cycle_chain_deactivation\n",
    "output_file = f\"{instances_file_path.split('/')[-1].replace('.txt', '')}_SOLUTION.txt\"\n",
    "output_file_path = os.path.join('Solutions', output_file)\n",
    "run_cycle_chain_deactivation(data, output_file_path)"
   ]
  },
  {
   "cell_type": "code",
   "execution_count": null,
   "metadata": {},
   "outputs": [],
   "source": [
    "from cycle_chain_deactivation_generalized import run_cycle_chain_deactivation\n",
    "max_cycle_length = 3\n",
    "max_chain_length = 4\n",
    "output_file = f\"{instances_file_path.split('/')[-1].replace('.txt', '')}_GENERALIZED_SOLUTION.txt\"\n",
    "output_file_path = os.path.join('Solutions', output_file)\n",
    "run_cycle_chain_deactivation(data, output_file_path, max_cycle_length, max_chain_length)"
   ]
  }
 ],
 "metadata": {
  "kernelspec": {
   "display_name": "py_env",
   "language": "python",
   "name": "python3"
  },
  "language_info": {
   "codemirror_mode": {
    "name": "ipython",
    "version": 3
   },
   "file_extension": ".py",
   "mimetype": "text/x-python",
   "name": "python",
   "nbconvert_exporter": "python",
   "pygments_lexer": "ipython3",
   "version": "3.12.5"
  }
 },
 "nbformat": 4,
 "nbformat_minor": 2
}
