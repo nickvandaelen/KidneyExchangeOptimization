{
 "cells": [
  {
   "cell_type": "markdown",
   "id": "ea4d9ba3",
   "metadata": {},
   "source": [
    "# Preliminaries"
   ]
  },
  {
   "cell_type": "code",
   "execution_count": 55,
   "id": "dce099e0",
   "metadata": {},
   "outputs": [],
   "source": [
    "# Import libraries\n",
    "import networkx as nx\n",
    "import os\n",
    "\n",
    "# Define filepath\n",
    "filepath = 'Instance Files/Delorme_200_NDD_Weight_0.txt'\n",
    "\n",
    "# Strip filename from filepath\n",
    "filename = os.path.basename(filepath)\n"
   ]
  },
  {
   "cell_type": "code",
   "execution_count": null,
   "id": "8f36336c-16c6-4cb4-a847-32c2c1b3bbd0",
   "metadata": {},
   "outputs": [],
   "source": []
  },
  {
   "cell_type": "markdown",
   "id": "111fe593-c3a5-4316-8c76-0728305517ed",
   "metadata": {},
   "source": [
    "TO Do:    Add weight calculations to the 3 cycle to 2 2 cycle section of the lns heuristic.\n",
    "\n",
    "Configure in such a way that we run all 12 data, Saidman_50, delorme_200, as well as k = 3 and k=4 etc with one click and records heuristic calc times for eachof the 24 runs. Output to txt file would be chill"
   ]
  },
  {
   "cell_type": "markdown",
   "id": "9dd525eb",
   "metadata": {},
   "source": [
    "# Read in data"
   ]
  },
  {
   "cell_type": "code",
   "execution_count": 56,
   "id": "29add3d5-4c97-449f-9712-b39dd14f6db2",
   "metadata": {},
   "outputs": [],
   "source": [
    "def import_kidney_data(filepath):\n",
    "    \"\"\"\n",
    "    Imports kidney exchange data from a text file and structures it into a dictionary.\n",
    "\n",
    "    Args:\n",
    "        filepath (str): The path to the text file containing the kidney exchange data.\n",
    "\n",
    "    Returns:\n",
    "        dict: A dictionary containing the following keys:\n",
    "            - num_pairs (int): The number of pairs (donor-patient pairs) in the instance.\n",
    "            - num_ndd (int): The number of non-directed donors (NDDs) in the instance.\n",
    "            - num_arcs (int): The total number of arcs in the instance.\n",
    "            - pairs (list): A list of dictionaries, each representing a pair or NDD with the following keys:\n",
    "                - id (int): The unique ID of the pair.\n",
    "                - is_ndd (bool): True if the pair is an NDD, False otherwise.\n",
    "                - donor_blood_type (int): Donor's blood type (0 = A, 1 = B, 2 = AB, 3 = O).\n",
    "                - patient_blood_type (int): Patient's blood type (0 = A, 1 = B, 2 = AB, 3 = O).\n",
    "                - patient_vpra (int): Patient's vPRA score (0 = below 0.5, 1 = between 0.5 and 0.85, 2 = above 0.85).\n",
    "            - arcs (list): A list of dictionaries representing the arcs between pairs with the following keys:\n",
    "                - donor_id (int): ID of the donor pair.\n",
    "                - patient_id (int): ID of the patient pair.\n",
    "                - weight (int): The weight of the arc (always 1 in this case).\n",
    "\n",
    "    Example:\n",
    "        data = import_kidney_data('path/to/data.txt')\n",
    "        print(data['num_pairs'])  # Output: Number of pairs in the instance\n",
    "    \"\"\"\n",
    "\n",
    "    data = {}\n",
    "    \n",
    "    # Open the file and read all lines into memory\n",
    "    with open(filepath, 'r') as f:\n",
    "        lines = f.readlines()\n",
    "        \n",
    "        # Parse metadata: number of pairs, NDDs, and arcs\n",
    "        num_pairs = int(lines[0].split(' ')[2])\n",
    "        num_ndd = int(lines[1].split(' ')[2])\n",
    "        num_arcs = int(lines[2].split(' ')[2])\n",
    "        \n",
    "        # Store the parsed values in the data dictionary\n",
    "        data['num_pairs'] = num_pairs\n",
    "        data['num_ndd'] = num_ndd\n",
    "        data['num_arcs'] = num_arcs\n",
    "        \n",
    "        # Total number of entities (pairs + NDDs)\n",
    "        num_things = num_pairs + num_ndd\n",
    "        \n",
    "        # List to store information about pairs and NDDs\n",
    "        pairs = []\n",
    "        \n",
    "        # Parse each line corresponding to pairs and NDDs\n",
    "        for line in lines[3:num_things + 3]:\n",
    "            id, is_ndd, donor_blood_type, patient_blood_type, patient_vpra = map(int, line.strip().split(','))\n",
    "            \n",
    "            # Add pair/NDD info to the list\n",
    "            pairs.append({\n",
    "                'id': id,\n",
    "                'is_ndd': bool(is_ndd),\n",
    "                'donor_blood_type': donor_blood_type,\n",
    "                'patient_blood_type': patient_blood_type,\n",
    "                'patient_vpra': patient_vpra,\n",
    "            })\n",
    "        \n",
    "        # Store the pairs data in the dictionary\n",
    "        data['pairs'] = pairs\n",
    "\n",
    "        # List to store information about arcs\n",
    "        arcs = []\n",
    "        \n",
    "        # Parse each line corresponding to arcs (donor-patient relationships)\n",
    "        for line in lines[num_things + 3:]:\n",
    "            arc, weight = line.strip().split(',1,')\n",
    "            \n",
    "            # Extract donor and patient IDs from the arc\n",
    "            donor_id, patient_id = arc.split(',')\n",
    "            weight = int(weight.strip())  # Weight is always 1 in this context\n",
    "            donor_id = int(donor_id[1:])  # Remove prefix and convert to int\n",
    "            patient_id = int(patient_id[:-1])  # Remove suffix and convert to int\n",
    "            \n",
    "            # Add arc info to the list\n",
    "            arcs.append({\n",
    "                'donor_id': donor_id,\n",
    "                'patient_id': patient_id,\n",
    "                'weight': weight,\n",
    "            })\n",
    "        \n",
    "        # Store the arcs data in the dictionary\n",
    "        data['arcs'] = arcs\n",
    "\n",
    "    # Return the final structured dictionary\n",
    "    return data\n",
    "\n",
    "\n",
    "# Example usage of the function\n",
    "data = import_kidney_data(filepath)\n"
   ]
  },
  {
   "cell_type": "code",
   "execution_count": 57,
   "id": "4a150dc2",
   "metadata": {},
   "outputs": [
    {
     "name": "stdout",
     "output_type": "stream",
     "text": [
      "Kidney exchange data from: Delorme_200_NDD_Weight_0.txt\n",
      "Number of pairs: 190\n",
      "Number of NDDs: 10\n",
      "Number of arcs: 4300\n",
      "\n",
      "Arc ID: 205\n",
      "Donor ID: 16\n",
      "Patient ID: 112\n",
      "Weight: 5\n",
      "\n",
      "Pair ID: 49\n",
      "Is NDD: False\n",
      "Donor blood type: 1\n",
      "Patient blood type: 1\n",
      "Patient vPRA: 2\n",
      "\n"
     ]
    }
   ],
   "source": [
    "# Display the number of pairs, NDDs, and arcs\n",
    "print(f\"Kidney exchange data from: {filename}\")\n",
    "print(f\"Number of pairs: {data['num_pairs']}\")\n",
    "print(f\"Number of NDDs: {data['num_ndd']}\")\n",
    "print(f\"Number of arcs: {data['num_arcs']}\")\n",
    "print('')\n",
    "\n",
    "# Access information about a specific arc\n",
    "arc_id = 205\n",
    "arc = data['arcs'][arc_id] \n",
    "print(f\"Arc ID: {arc_id}\")\n",
    "print(f\"Donor ID: {arc['donor_id']}\")\n",
    "print(f\"Patient ID: {arc['patient_id']}\")\n",
    "print(f\"Weight: {arc['weight']}\")\n",
    "print('')\n",
    "\n",
    "# Access information about a specific pair (based on pair ID)\n",
    "pair_id = 49\n",
    "pair = data['pairs'][pair_id]\n",
    "print(f\"Pair ID: {pair_id}\")\n",
    "print(f\"Is NDD: {pair['is_ndd']}\")\n",
    "print(f\"Donor blood type: {pair['donor_blood_type']}\")\n",
    "print(f\"Patient blood type: {pair['patient_blood_type']}\")\n",
    "print(f\"Patient vPRA: {pair['patient_vpra']}\")\n",
    "print('')\n",
    "\n",
    "# Print the complete data for debugging purposes (optional)\n",
    "#print(data)\n"
   ]
  },
  {
   "cell_type": "markdown",
   "id": "0860dd61",
   "metadata": {},
   "source": [
    "# Define graph functions"
   ]
  },
  {
   "cell_type": "code",
   "execution_count": 58,
   "id": "8b265c60-97d9-4c74-8403-9862901338d5",
   "metadata": {},
   "outputs": [],
   "source": [
    "import numpy as np\n",
    "\n",
    "def create_graph(data):\n",
    "    \"\"\"\n",
    "    Creates a directed graph from the input data.\n",
    "\n",
    "    Parameters:\n",
    "    data (dict): A dictionary with two keys:\n",
    "        - 'pairs': A list of dictionaries, each containing an 'id' for a node.\n",
    "        - 'arcs': A list of dictionaries, each containing 'donor_id' (start node), \n",
    "                  'patient_id' (end node), and 'weight' (weight of the edge).\n",
    "\n",
    "    Returns:\n",
    "    G (nx.DiGraph): A directed graph created from the input data.\n",
    "    \"\"\"\n",
    "    G = nx.DiGraph()\n",
    "    \n",
    "    # Add nodes to the graph from 'pairs' in data\n",
    "    for pair in data['pairs']:\n",
    "        G.add_node(pair['id'])\n",
    "    \n",
    "    # Add edges (directed) with weights from 'arcs' in data\n",
    "    for arc in data['arcs']:\n",
    "        G.add_edge(arc['donor_id'], arc['patient_id'], weight=arc['weight'])\n",
    "    \n",
    "    return G"
   ]
  },
  {
   "cell_type": "code",
   "execution_count": 59,
   "id": "5a9f8480-ba79-418e-971a-d7ace27b6b7f",
   "metadata": {},
   "outputs": [],
   "source": [
    "def findPath(G, u, n):\n",
    "    \"\"\"\n",
    "    Recursively finds all paths of length n starting from node u.\n",
    "\n",
    "    Parameters:\n",
    "    G (nx.DiGraph): A directed graph.\n",
    "    u (hashable): The starting node of the path.\n",
    "    n (int): The length of the paths to find.\n",
    "\n",
    "    Returns:\n",
    "    paths (list): A list of all possible paths of length n starting from node u. \n",
    "                  Each path is represented as a list of nodes.\n",
    "    \"\"\"\n",
    "    if n == 0:\n",
    "        # Base case: if the path length is 0, return the starting node as the path\n",
    "        return [[u]]\n",
    "    \n",
    "    # Recursive case: explore neighbors of the current node and find paths of length n-1\n",
    "    paths = [[u] + path for neighbor in G.successors(u) for path in findPath(G, neighbor, n-1)]\n",
    "    \n",
    "    return paths\n",
    "\n",
    "\n",
    "\n",
    "def find_cycle(G, u, n):\n",
    "    \"\"\"\n",
    "    Finds all cycles of length n starting and ending at node u.\n",
    "\n",
    "    Parameters:\n",
    "    G (nx.DiGraph): A directed graph.\n",
    "    u (hashable): The node where the cycle starts and ends.\n",
    "    n (int): The length of the cycle (number of edges in the cycle).\n",
    "\n",
    "    Returns:\n",
    "    cycles (list): A list of all cycles of length n starting and ending at node u.\n",
    "                   Each cycle is represented as a tuple of nodes.\n",
    "    \"\"\"\n",
    "    # Find all paths of length n starting from node u\n",
    "    paths = findPath(G, u, n)\n",
    "    \n",
    "    # Filter paths that form a cycle, meaning they end at u and visit u exactly twice\n",
    "    return [tuple(path) for path in paths if (path[-1] == u) and sum(x == u for x in path) == 2]"
   ]
  },
  {
   "cell_type": "code",
   "execution_count": 60,
   "id": "f8918a2e-24c7-45d0-ad53-cabf4e349a97",
   "metadata": {},
   "outputs": [],
   "source": [
    "def set_weight(dict_list, donor_id, patient_id, weight_key=\"weight\"):\n",
    "    \"\"\"\n",
    "    Retrieve the weight of an arc between a donor and a patient.\n",
    "\n",
    "    Args:\n",
    "        dict_list (list): List of dictionaries representing arcs.\n",
    "        donor_id (int): The ID of the donor.\n",
    "        patient_id (int): The ID of the patient.\n",
    "        weight_key (str): The key to access the weight in the dictionary (default is \"weight\").\n",
    "\n",
    "    Returns:\n",
    "        int: The weight of the arc if found, otherwise None.\n",
    "    \"\"\"\n",
    "    for dct in dict_list:\n",
    "        if dct.get(\"donor_id\") == donor_id and dct.get(\"patient_id\") == patient_id:\n",
    "            return dct.get(weight_key)\n",
    "    return None  # Return None if no matching arc is found\n",
    "\n",
    "\n",
    "#Faster way to find weight of an arc using adjacency matrix\n",
    "def get_weight(mat, donor_id, patient_id):\n",
    "    return int(mat[donor_id][patient_id])"
   ]
  },
  {
   "cell_type": "code",
   "execution_count": 61,
   "id": "1e3bbb17-842b-4308-9489-66ccc378ccc1",
   "metadata": {},
   "outputs": [],
   "source": [
    "cycle_times = []"
   ]
  },
  {
   "cell_type": "code",
   "execution_count": 20,
   "id": "052bb337-58b6-491f-944c-f2ddd86d9aa8",
   "metadata": {},
   "outputs": [
    {
     "data": {
      "text/plain": [
       "'\\nstart_graph = time.time()\\n\\nG = create_graph(data) # Create a directed graph from the data\\n\\nend_graph = time.time()\\n\\n#create weight matrix for faster lookup\\nnum_things = len(G.nodes)\\nweight_matrix = np.zeros((num_things, num_things))\\nprint(\\'Graph time: {}\\'.format(end_graph-start_graph))\\n\\n\\nfor arc in data[\\'arcs\\']:\\n    weight_matrix[arc[\\'donor_id\\']][arc[\\'patient_id\\']] = arc[\\'weight\\']\\n\\nk = 3  # Maximum length for cycles and paths\\n # List to store information about cycles\\np = []  # List to store information about paths\\nfor i in range(1):\\n    c = [] \\n    startc = time.time()\\n    id_count = 0\\n    # Loop through possible cycle lengths from 1 to k\\n    for l in range(2, k+1):\\n        for node in G.nodes:  # Iterate over all nodes in the graph\\n            for cyc in list(find_cycle(G, node, l)):\\n                # Find all cycles starting at this node of length \\'l\\'\\n                cyc_success = 0\\n                cyc_weight = 0\\n                \\n                # Calculate the success and weight for the cycle\\n                for n in range(1, len(cyc)):\\n                    cyc_success += data[\\'pairs\\'][cyc[n]][\\'patient_vpra\\']  # Sum up the vPRA values of patients in the cycle\\n                    cyc_weight += set_weight(data[\\'arcs\\'], cyc[n-1], cyc[n])  # Add the weight of the arc between consecutive pairs in the cycle\\n                    #cyc_weight += get_weight(weight_matrix, cyc[n-1], cyc[n])  # Add the weight of the arc using adjacency matrix\\n                \\n                # Append the cycle info to the list \\'c\\'\\n                c.append({\\'id\\': id_count,\\'cycle\\': cyc, \\'vpra_sum\\': cyc_success, \\'weight_sum\\': cyc_weight})  \\n                id_count += 1\\n    \\n    endc = time.time()\\n    \\n    print(\\'cycle time: {}\\'.format(endc-startc))\\n    cycle_times.append(endc-startc)\\n    startp = time.time()\\n    # Loop through possible path lengths from 1 to k-2 (since paths are from NDDs)\\n    for l in range(1, k):\\n        for node in G.nodes:  # Iterate over all nodes in the graph\\n            if data[\\'pairs\\'][node][\\'is_ndd\\']:  # Only consider nodes that are NDDs\\n                for path in list(findPath(G, node, l)):  # Find all paths starting at this NDD node of length \\'l\\'\\n                    path_success = 0\\n                    path_weight = 0\\n                    \\n                    # Calculate the success and weight for the path\\n                    for n in range(1, len(path)):\\n                        path_success += data[\\'pairs\\'][path[n]][\\'patient_vpra\\']  # Sum up the vPRA values of patients in the path\\n                        path_weight += set_weight(data[\\'arcs\\'], cyc[n-1], cyc[n])  # Add the weight of the arc between consecutive pairs in the path\\n                    # Append the path info to the list \\'p\\'\\n                    \\n                    c.append({\\'id\\':id_count,\\'cycle\\': path, \\'vpra_sum\\': path_success, \\'weight_sum\\': path_weight}) \\n                    id_count += 1\\n    endp = time.time()\\n    \\n    print(\\'path time: {}\\'.format(endp-startp))\\n# Print the results\\nprint(\"Cycles/paths:\", id_count) \\n#print(\"Paths:\", p)\\n'"
      ]
     },
     "execution_count": 20,
     "metadata": {},
     "output_type": "execute_result"
    }
   ],
   "source": [
    "import time\n",
    "'''\n",
    "start_graph = time.time()\n",
    "\n",
    "G = create_graph(data) # Create a directed graph from the data\n",
    "\n",
    "end_graph = time.time()\n",
    "\n",
    "#create weight matrix for faster lookup\n",
    "num_things = len(G.nodes)\n",
    "weight_matrix = np.zeros((num_things, num_things))\n",
    "print('Graph time: {}'.format(end_graph-start_graph))\n",
    "\n",
    "\n",
    "for arc in data['arcs']:\n",
    "    weight_matrix[arc['donor_id']][arc['patient_id']] = arc['weight']\n",
    "\n",
    "k = 3  # Maximum length for cycles and paths\n",
    " # List to store information about cycles\n",
    "p = []  # List to store information about paths\n",
    "for i in range(1):\n",
    "    c = [] \n",
    "    startc = time.time()\n",
    "    id_count = 0\n",
    "    # Loop through possible cycle lengths from 1 to k\n",
    "    for l in range(2, k+1):\n",
    "        for node in G.nodes:  # Iterate over all nodes in the graph\n",
    "            for cyc in list(find_cycle(G, node, l)):\n",
    "                # Find all cycles starting at this node of length 'l'\n",
    "                cyc_success = 0\n",
    "                cyc_weight = 0\n",
    "                \n",
    "                # Calculate the success and weight for the cycle\n",
    "                for n in range(1, len(cyc)):\n",
    "                    cyc_success += data['pairs'][cyc[n]]['patient_vpra']  # Sum up the vPRA values of patients in the cycle\n",
    "                    cyc_weight += set_weight(data['arcs'], cyc[n-1], cyc[n])  # Add the weight of the arc between consecutive pairs in the cycle\n",
    "                    #cyc_weight += get_weight(weight_matrix, cyc[n-1], cyc[n])  # Add the weight of the arc using adjacency matrix\n",
    "                \n",
    "                # Append the cycle info to the list 'c'\n",
    "                c.append({'id': id_count,'cycle': cyc, 'vpra_sum': cyc_success, 'weight_sum': cyc_weight})  \n",
    "                id_count += 1\n",
    "    \n",
    "    endc = time.time()\n",
    "    \n",
    "    print('cycle time: {}'.format(endc-startc))\n",
    "    cycle_times.append(endc-startc)\n",
    "    startp = time.time()\n",
    "    # Loop through possible path lengths from 1 to k-2 (since paths are from NDDs)\n",
    "    for l in range(1, k):\n",
    "        for node in G.nodes:  # Iterate over all nodes in the graph\n",
    "            if data['pairs'][node]['is_ndd']:  # Only consider nodes that are NDDs\n",
    "                for path in list(findPath(G, node, l)):  # Find all paths starting at this NDD node of length 'l'\n",
    "                    path_success = 0\n",
    "                    path_weight = 0\n",
    "                    \n",
    "                    # Calculate the success and weight for the path\n",
    "                    for n in range(1, len(path)):\n",
    "                        path_success += data['pairs'][path[n]]['patient_vpra']  # Sum up the vPRA values of patients in the path\n",
    "                        path_weight += set_weight(data['arcs'], cyc[n-1], cyc[n])  # Add the weight of the arc between consecutive pairs in the path\n",
    "                    # Append the path info to the list 'p'\n",
    "                    \n",
    "                    c.append({'id':id_count,'cycle': path, 'vpra_sum': path_success, 'weight_sum': path_weight}) \n",
    "                    id_count += 1\n",
    "    endp = time.time()\n",
    "    \n",
    "    print('path time: {}'.format(endp-startp))\n",
    "# Print the results\n",
    "print(\"Cycles/paths:\", id_count) \n",
    "#print(\"Paths:\", p)\n",
    "'''"
   ]
  },
  {
   "cell_type": "markdown",
   "id": "b83fadfc-f096-4db2-87b7-35f73e5fb2d9",
   "metadata": {},
   "source": [
    "## NEW VERSION of cycle generatio below\n",
    "\n",
    "### old one is kept above for testing. Adjust for loop if you only want to run once"
   ]
  },
  {
   "cell_type": "code",
   "execution_count": 62,
   "id": "3cb0a987-3a78-4ea5-83f4-986bd9343b24",
   "metadata": {},
   "outputs": [
    {
     "name": "stdout",
     "output_type": "stream",
     "text": [
      "[(2, 3, 4, 2), (1, 2, 3, 1)]\n"
     ]
    }
   ],
   "source": [
    "import networkx as nx\n",
    "\n",
    "def canonical_form(cycle):\n",
    "    \"\"\"\n",
    "    Returns the canonical form of a cycle by rotating it to start with the smallest node.\n",
    "    \"\"\"\n",
    "    min_index = cycle.index(min(cycle))\n",
    "    return tuple(cycle[min_index:] + cycle[:min_index])\n",
    "\n",
    "def findPaths(G, u, n, memo):\n",
    "    \"\"\"\n",
    "    Recursively finds all paths of length n starting from node u, using memoization.\n",
    "    \n",
    "    Parameters:\n",
    "    G (nx.DiGraph): A directed graph.\n",
    "    u (hashable): The starting node of the path.\n",
    "    n (int): The length of the paths to find.\n",
    "    memo (dict): A memoization dictionary for storing already computed paths.\n",
    "\n",
    "    Returns:\n",
    "    paths (list): A list of all possible paths of length n starting from node u.\n",
    "    \"\"\"\n",
    "    if (u, n) in memo:\n",
    "        return memo[(u, n)]\n",
    "\n",
    "    if n == 0:\n",
    "        return [[u]]\n",
    "\n",
    "    paths = [[u] + path for neighbor in G.successors(u) for path in findPaths(G, neighbor, n-1, memo)]\n",
    "    \n",
    "    memo[(u, n)] = paths\n",
    "    return paths\n",
    "\n",
    "def is_valid_cycle_build(path):\n",
    "    \"\"\"\n",
    "    Checks if a path forms a valid cycle.\n",
    "    \n",
    "    A valid cycle must start and end at the same node, and no internal node should repeat.\n",
    "    \"\"\"\n",
    "    return path[-1] == path[0] and len(set(path[:-1])) == len(path) - 1\n",
    "\n",
    "def find_cycles(G, u, n, memo):\n",
    "    \"\"\"\n",
    "    Finds all cycles of length n starting and ending at node u, and ensures no duplicates using canonical form.\n",
    "\n",
    "    Parameters:\n",
    "    G (nx.DiGraph): A directed graph.\n",
    "    u (hashable): The node where the cycle starts and ends.\n",
    "    n (int): The length of the cycle (number of edges in the cycle).\n",
    "    memo (dict): A memoization dictionary for storing already computed paths.\n",
    "\n",
    "    Returns:\n",
    "    cycles (list): A list of all cycles of length n starting and ending at node u.\n",
    "    \"\"\"\n",
    "    # Find all paths of length n starting from node u\n",
    "    paths = findPaths(G, u, n, memo)\n",
    "\n",
    "    # Filter paths that form a valid cycle and return in canonical form\n",
    "    cycles = [canonical_form(path) for path in paths if is_valid_cycle_build(path)]\n",
    "\n",
    "    return list(set(cycles))\n",
    "\n",
    "def find_all_cycles_in_sccs(G, k):\n",
    "    \"\"\"\n",
    "    Finds all unique cycles of length up to k in the strongly connected components of the graph.\n",
    "    \n",
    "    Parameters:\n",
    "    G (nx.DiGraph): A directed graph.\n",
    "    k (int): The maximum length of the cycles.\n",
    "\n",
    "    Returns:\n",
    "    cycles (list): A list of all unique cycles in the graph, up to length k.\n",
    "    \"\"\"\n",
    "    c = set()  # Use a set to store unique cycles\n",
    "\n",
    "    # Get all strongly connected components\n",
    "    sccs = nx.strongly_connected_components(G)\n",
    "\n",
    "    for scc in sccs:\n",
    "        subgraph = G.subgraph(scc)  # Only search within the SCC\n",
    "          # Memoization dictionary for storing already computed paths\n",
    "        for l in range(2, k + 1):\n",
    "            memo = {}\n",
    "            for node in subgraph.nodes:\n",
    "                for cyc in find_cycles(subgraph, node, l, memo):\n",
    "                    if is_valid_cycle_build(cyc):\n",
    "                        c.add(cyc)  # Store the canonical form\n",
    "\n",
    "    return list(c)\n",
    "\n",
    "# Test usage:\n",
    "test = nx.DiGraph()\n",
    "test.add_edges_from([(1, 2), (2, 3), (3, 1), (3, 4), (4, 2), (2, 5)])\n",
    "\n",
    "# Find all unique cycles of length up to 3\n",
    "k = 3\n",
    "cycles = find_all_cycles_in_sccs(test, k)\n",
    "print(cycles)\n"
   ]
  },
  {
   "cell_type": "code",
   "execution_count": 63,
   "id": "94135c67-d376-494c-ba2e-10a60e07b6dc",
   "metadata": {},
   "outputs": [],
   "source": [
    "cycle_time_new = []"
   ]
  },
  {
   "cell_type": "code",
   "execution_count": 64,
   "id": "139dbb38-35c8-484a-982e-8b448b6bf219",
   "metadata": {},
   "outputs": [
    {
     "name": "stdout",
     "output_type": "stream",
     "text": [
      "Graph time: 0.05226016044616699\n",
      "cycle time: 0.543370246887207\n",
      "path time: 0.01359248161315918\n",
      "Cycles/paths: 3233\n"
     ]
    }
   ],
   "source": [
    "\n",
    "import time\n",
    "\n",
    "start_graph = time.time()\n",
    "\n",
    "G = create_graph(data) # Create a directed graph from the data\n",
    "\n",
    "end_graph = time.time()\n",
    "\n",
    "#create weight matrix for faster lookup\n",
    "num_things = len(G.nodes)\n",
    "weight_matrix = np.zeros((num_things, num_things))\n",
    "print('Graph time: {}'.format(end_graph-start_graph))\n",
    "\n",
    "\n",
    "for arc in data['arcs']:\n",
    "    weight_matrix[arc['donor_id']][arc['patient_id']] = arc['weight']\n",
    "\n",
    "k = 3  # Maximum length for cycles and paths\n",
    " # List to store information about cycles\n",
    "p = []  # List to store information about paths\n",
    "\n",
    "#### How many times to run (to test runtime)  Make 1 to generate cycles once\n",
    "for i in range(1):\n",
    "    c = [] \n",
    "    startc = time.time()\n",
    "    id_count = 0\n",
    "    for cyc in list(find_all_cycles_in_sccs(G, k)):\n",
    "        # Find all cycles starting at this node of length 'l'\n",
    "        #cyc_success = 0\n",
    "        cyc_weight = 0\n",
    "                \n",
    "        # Calculate the success and weight for the cycle\n",
    "        for n in range(1, len(cyc)):\n",
    "            #cyc_success += data['pairs'][cyc[n]]['patient_vpra']  # Sum up the vPRA values of patients in the cycle\n",
    "            #cyc_weight += set_weight(data['arcs'], cyc[n-1], cyc[n])  # Add the weight of the arc between consecutive pairs in the cycle\n",
    "            cyc_weight += get_weight(weight_matrix, cyc[n-1], cyc[n])  # Add the weight of the arc between consecutive pairs in the cycle\n",
    "                \n",
    "        # Append the cycle info to the list 'c'\n",
    "        c.append({'id': id_count,'cycle': cyc, 'weight_sum': cyc_weight})  \n",
    "        id_count += 1\n",
    "    \n",
    "    endc = time.time()\n",
    "    \n",
    "    print('cycle time: {}'.format(endc-startc))\n",
    "    cycle_time_new.append(endc-startc)\n",
    "    startp = time.time()\n",
    "    # Loop through possible path lengths from 1 to k-2 (since paths are from NDDs)\n",
    "    for l in range(1, k):\n",
    "        for node in G.nodes:  # Iterate over all nodes in the graph\n",
    "            if data['pairs'][node]['is_ndd']:  # Only consider nodes that are NDDs\n",
    "                for path in list(findPath(G, node, l)):  # Find all paths starting at this NDD node of length 'l'\n",
    "                    path_success = 0\n",
    "                    path_weight = 0\n",
    "                \n",
    "                    # Calculate the success and weight for the path\n",
    "                    for n in range(1, len(path)):\n",
    "                        #path_success += data['pairs'][path[n]]['patient_vpra']  # Sum up the vPRA values of patients in the path\n",
    "                        path_weight += get_weight(weight_matrix, path[n-1], path[n])  # Add the weight of the arc between consecutive pairs in the path\n",
    "                    # Append the path info to the list 'p'\n",
    "                    \n",
    "                    c.append({'id':id_count,'cycle': path, 'weight_sum': path_weight}) \n",
    "                    id_count += 1\n",
    "    endp = time.time()\n",
    "    \n",
    "    print('path time: {}'.format(endp-startp))\n",
    "# Print the results\n",
    "print(\"Cycles/paths:\", id_count) \n",
    "#print(\"Paths:\", p)"
   ]
  },
  {
   "cell_type": "code",
   "execution_count": null,
   "id": "ad7d9bed-4c50-46e4-b30a-54e609ca395e",
   "metadata": {},
   "outputs": [],
   "source": []
  },
  {
   "cell_type": "code",
   "execution_count": null,
   "id": "7133df63-7b7a-4bcd-abd6-32cefb8984cf",
   "metadata": {},
   "outputs": [],
   "source": []
  },
  {
   "cell_type": "code",
   "execution_count": 24,
   "id": "4c0c3505-e4cd-4e30-866b-734edc221bbc",
   "metadata": {
    "scrolled": true
   },
   "outputs": [
    {
     "name": "stdout",
     "output_type": "stream",
     "text": [
      "new method avg time: 0.47765064239501953\n"
     ]
    }
   ],
   "source": [
    "import statistics\n",
    "\n",
    "\n",
    "#print('old method avg time', statistics.mean(cycle_times))\n",
    "print('new method avg time:', statistics.mean(cycle_time_new))"
   ]
  },
  {
   "cell_type": "code",
   "execution_count": 69,
   "id": "a8d78bc5-23db-48bd-8269-2d103210de84",
   "metadata": {},
   "outputs": [],
   "source": [
    "def get_stats(cycles, mat):\n",
    "    transplants_made = 0 \n",
    "    total_weight = 0\n",
    "    for c1 in cycles:\n",
    "        transplants_made += len(c1['cycle'])-1\n",
    "        for i in range(0, len(c1['cycle'])-1):\n",
    "            total_weight += get_weight(mat, c1['cycle'][i], c1['cycle'][i+1])\n",
    "    return transplants_made, total_weight"
   ]
  },
  {
   "cell_type": "markdown",
   "id": "60facfb1-5a66-43e8-9935-c1855d4a0d8a",
   "metadata": {},
   "source": [
    "## Heuristics\n",
    "\n",
    "#### Largest Weight Heuristic (Constructive)"
   ]
  },
  {
   "cell_type": "code",
   "execution_count": 70,
   "id": "5654950e-f2da-4801-9e63-2c7dceb1da29",
   "metadata": {},
   "outputs": [],
   "source": [
    "def largest_weight_heuristic(cycles):\n",
    "    \"\"\"\n",
    "    Implements the largest weight heuristic for selecting cycles in the kidney exchange problem.\n",
    "\n",
    "    Args:\n",
    "        cycles: A list of cycles, where each cycle is represented as a dictionary with keys 'id', 'cyc', and 'weight'.\n",
    "\n",
    "    Returns:\n",
    "        A list of selected cycles.\n",
    "    \"\"\"\n",
    "\n",
    "    selected_cycles = []\n",
    "    while cycles:\n",
    "        # Find the cycle with the largest weight\n",
    "        max_weight_cycle = max(cycles, key=lambda c3: c3['weight_sum'])\n",
    "\n",
    "        # Remove cycles that are not disjoint from the selected cycles\n",
    "        disjoint_cycles = [c2 for c2 in cycles if not set(max_weight_cycle['cycle']).intersection(set(c2['cycle']))]\n",
    "\n",
    "        # Add the selected cycle to the list of selected cycles\n",
    "        selected_cycles.append(max_weight_cycle)\n",
    "        cycles = disjoint_cycles   \n",
    "    return selected_cycles, cycles"
   ]
  },
  {
   "cell_type": "code",
   "execution_count": 72,
   "id": "c7697e5d-4105-44db-8565-28953c35d0a2",
   "metadata": {},
   "outputs": [
    {
     "name": "stdout",
     "output_type": "stream",
     "text": [
      "[{'id': 157, 'cycle': (51, 85, 187, 51), 'weight_sum': 234}, {'id': 236, 'cycle': (54, 79, 149, 54), 'weight_sum': 211}, {'id': 193, 'cycle': (20, 139, 142, 20), 'weight_sum': 183}, {'id': 133, 'cycle': (52, 93, 154, 52), 'weight_sum': 174}, {'id': 1750, 'cycle': [193, 6, 50], 'weight_sum': 174}, {'id': 2895, 'cycle': [196, 105, 171], 'weight_sum': 173}, {'id': 235, 'cycle': (24, 182, 72, 24), 'weight_sum': 172}, {'id': 2277, 'cycle': [195, 57, 76], 'weight_sum': 171}, {'id': 1032, 'cycle': [190, 167, 70], 'weight_sum': 170}, {'id': 1401, 'cycle': [192, 74, 35], 'weight_sum': 169}, {'id': 97, 'cycle': (73, 141, 189, 73), 'weight_sum': 155}, {'id': 3201, 'cycle': [198, 159, 152], 'weight_sum': 146}, {'id': 3228, 'cycle': [199, 90, 123], 'weight_sum': 74}, {'id': 134, 'cycle': (140, 145, 140), 'weight_sum': 60}]\n",
      "total transplants: 34, 2266\n"
     ]
    }
   ],
   "source": [
    "selected_cycles, remaining = largest_weight_heuristic(c)\n",
    "print(selected_cycles)\n",
    "transplants_made, total_weight = get_stats(selected_cycles, weight_matrix)\n",
    "print('total transplants: {}, {}'.format(transplants_made, total_weight))"
   ]
  },
  {
   "cell_type": "markdown",
   "id": "1cabbbc4-0ef4-4652-8ace-ca6ac5aaad92",
   "metadata": {},
   "source": [
    "#### Neigborhood Search Heuristic\n",
    "\n",
    "Makes 3 cycles from 2 cycles, splits 3 cycles into 2 2 cycles"
   ]
  },
  {
   "cell_type": "code",
   "execution_count": 52,
   "id": "aa8fdb6d-edf0-4274-903f-31bae2996fab",
   "metadata": {},
   "outputs": [],
   "source": [
    "def is_valid_cycle(cycle, mat):\n",
    "    \"\"\"\n",
    "    Checks if a given cycle is valid in a kidney exchange problem.\n",
    "\n",
    "    Args:\n",
    "        cycle: A list of pairs (donor_id, recipient_id) representing the cycle.\n",
    "        compatibility_graph: A graph representing compatibility between donors and recipients.\n",
    "        used_donors: A set of used donors.\n",
    "        used_recipients: A set of used recipients.\n",
    "\n",
    "    Returns:\n",
    "        True if the cycle is valid, False otherwise.\n",
    "    \"\"\"\n",
    "    arcs = data['arcs']\n",
    "    for i in range(len(cycle)-1):\n",
    "        #print(type(cycle[i]))\n",
    "        if get_weight(mat, cycle[i], cycle[i+1]) > 0:\n",
    "            continue\n",
    "        else:\n",
    "            return False\n",
    "\n",
    "    return True\n",
    "\n",
    "\n",
    "\n",
    "\n",
    "def heuristic_with_lns(selected_cycles, cycles, unassigned_vertecies, mat):\n",
    "    \"\"\"\n",
    "    Implements the largest weight heuristic for selecting cycles in the kidney exchange problem.\n",
    "\n",
    "    Args:\n",
    "        cycles: A list of cycles, where each cycle is represented as a dictionary with keys 'id', 'cyc', and 'weight'.\n",
    "\n",
    "    Returns:\n",
    "        A list of selected cycles.\n",
    "    \"\"\"\n",
    "\n",
    "    \n",
    "    while cycles:\n",
    "        # Find the cycle with the largest weight\n",
    "        max_weight_cycle = max(cycles, key=lambda c: c['weight_sum'])\n",
    "\n",
    "        # Remove cycles that are not disjoint from the selected cycles\n",
    "        disjoint_cycles = [c for c in cycles if not set(max_weight_cycle['cycle']).intersection(set(c['cycle']))]\n",
    "\n",
    "        # Add the selected cycle to the list of selected cycles\n",
    "        selected_cycles.append(max_weight_cycle)\n",
    "        cycles = disjoint_cycles\n",
    "    print('Step 2')\n",
    "    # Remove used vertices from unassigned_vertices\n",
    "    for cycle in selected_cycles:\n",
    "        for vertex in cycle['cycle']:\n",
    "            if vertex in unassigned_vertecies:\n",
    "                unassigned_vertecies.remove(vertex)\n",
    "    print('step3 done')\n",
    "    # Step 4: Try to convert 2-way cycles to 3-way cycles\n",
    "    cnt = 0\n",
    "    for cycle in selected_cycles:\n",
    "        if cnt % 5 == 0:\n",
    "            cnt += 1\n",
    "            print(cnt)\n",
    "        if len(cycle['cycle']) == 3:\n",
    "            if cycle['cycle'][0] == cycle['cycle'][2]:\n",
    "                for unassigned_vertex_d in unassigned_vertecies:\n",
    "                    unassigned_vertex = unassigned_vertex_d\n",
    "    \n",
    "                    new_cyc1 = [cycle['cycle'][0], cycle['cycle'][1], unassigned_vertex, cycle['cycle'][2]]\n",
    "                    new_cyc2 = [cycle['cycle'][1], unassigned_vertex, cycle['cycle'][1], cycle['cycle'][2]]\n",
    "                    #print(new_cyc1)\n",
    "                    if is_valid_cycle(new_cyc1, mat):\n",
    "                        # Find the edge weights based on donor_id and patient_id\n",
    "                        weight1 = mat[cycle['cycle'][0], cycle['cycle'][1]]\n",
    "                        weight2 = mat[unassigned_vertex, cycle['cycle'][2]]\n",
    "                        weight3 = mat[cycle['cycle'][1], unassigned_vertex]\n",
    "                        new_cycle = {'id': cycle['id'], 'cycle': new_cyc1, 'weight_sum': cycle['weight_sum'] + weight1 + weight2}                    \n",
    "                        selected_cycles.remove(cycle)\n",
    "                        selected_cycles.append(new_cycle)\n",
    "                        unassigned_vertecies.remove(unassigned_vertex_d)\n",
    "                        print('cycle added1')\n",
    "                        break\n",
    "                    if is_valid_cycle(new_cyc2, mat):\n",
    "                        # Find the edge weights based on donor_id and patient_id\n",
    "                        weight1 = mat[cycle['cycle'][0], unassigned_vertex]\n",
    "                        weight2 = mat[unassigned_vertex, cycle['cycle'][1]]\n",
    "                        weight3 = mat[cycle['cycle'][1], cycle['cycle'][2]]\n",
    "                        new_cycle = {'id': 222222, 'cycle': new_cyc1, 'weight_sum': cycle['weight_sum'] + weight1 + weight2}                    \n",
    "                        selected_cycles.remove(cycle)\n",
    "                        selected_cycles.append(new_cycle)\n",
    "                        unassigned_vertecies.remove(unassigned_vertex_d)\n",
    "                        print('cycle added 2')\n",
    "                        break\n",
    "\n",
    "    # Step 5: Try to convert 3-way cycles to two disjoint 2-way cycles\n",
    "    for cycle in selected_cycles:\n",
    "        if len(cycle['cycle']) == 4:\n",
    "            if cycle['cycle'][0] == cycle['cycle'][3]:\n",
    "                for unassigned_vertex_d in unassigned_vertecies:\n",
    "                    unassigned_vertex = unassigned_vertex_d\n",
    "                    # Find the edge weights based on donor_id and patient_id\n",
    "                    #weight1 = next((edge['weight'] for edge in edge_weights if edge['donor_id'] == cycle['cycle'][0] and edge['patient_id'] == unassigned_vertex), 0)\n",
    "                    #weight2 = next((edge['weight'] for edge in edge_weights if edge['donor_id'] == unassigned_vertex and edge['patient_id'] == cycle['cycle'][1]), 0)\n",
    "                    #weight3 = next((edge['weight'] for edge in edge_weights if edge['donor_id'] == cycle['cycle'][1] and edge['patient_id'] == cycle['cycle'][2]), 0)\n",
    "                    c_1 = [cycle['cycle'][0], unassigned_vertex, cycle['cycle'][0]]\n",
    "                    c_2 = [cycle['cycle'][2], cycle['cycle'][1], cycle['cycle'][2]]\n",
    "                    \n",
    "                    if is_valid_cycle(c_1, mat) and is_valid_cycle(c_2, mat):\n",
    "                        selected_cycles.remove(cycle)\n",
    "                        w_1 = get_weight(mat, c_1[0], c_1[1]) + get_weight(mat, c_1[1], c_1[2])\n",
    "                        w_2 = get_weight(mat, c_2[0], c_2[1]) + get_weight(mat, c_2[1], c_2[2])\n",
    "                        cycle1 = {'id':  33331, 'cycle': c_1, 'weight_sum': w_1}\n",
    "                        cycle2 = {'id': 33332, 'cycle': c_2, 'weight_sum': w_2}\n",
    "                        selected_cycles.append(cycle1)\n",
    "                        selected_cycles.append(cycle2)\n",
    "                        unassigned_vertecies.remove(unassigned_vertex_d)\n",
    "                        print(unassigned_vertex)\n",
    "                        print('cycle added3')\n",
    "                        break\n",
    "                    c_1 = [cycle['cycle'][1], unassigned_vertex, cycle['cycle'][1]]\n",
    "                    c_2 = [cycle['cycle'][2], cycle['cycle'][0], cycle['cycle'][2]]\n",
    "                    if is_valid_cycle(c_1, mat) and is_valid_cycle(c_2, mat):\n",
    "                        selected_cycles.remove(cycle)\n",
    "                        w_1 = get_weight(mat, c_1[0], c_1[1]) + get_weight(mat, c_1[1], c_1[2])\n",
    "                        w_2 = get_weight(mat, c_2[0], c_2[1]) + get_weight(mat, c_2[1], c_2[2])\n",
    "                        cycle1 = {'id':  33331, 'cycle': c_1, 'weight_sum': w_1}\n",
    "                        cycle2 = {'id': 33332, 'cycle': c_2, 'weight_sum': w_2}\n",
    "                        selected_cycles.append(cycle1)\n",
    "                        selected_cycles.append(cycle2)\n",
    "                        unassigned_vertecies.remove(unassigned_vertex_d)\n",
    "                        print(unassigned_vertex)\n",
    "                        print('cycle added4')\n",
    "                        break\n",
    "                    c_1 = [cycle['cycle'][2], unassigned_vertex, cycle['cycle'][2]]\n",
    "                    c_2 = [cycle['cycle'][1], cycle['cycle'][0], cycle['cycle'][1]]\n",
    "                    if is_valid_cycle(c_1, mat) and is_valid_cycle(c_2, mat):\n",
    "                        selected_cycles.remove(cycle)\n",
    "                        w_1 = get_weight(mat, c_1[0], c_1[1]) + get_weight(mat, c_1[1], c_1[2])\n",
    "                        w_2 = get_weight(mat, c_2[0], c_2[1]) + get_weight(mat, c_2[1], c_2[2])\n",
    "                        cycle1 = {'id':  33331, 'cycle': c_1, 'weight_sum': w_1}\n",
    "                        cycle2 = {'id': 33332, 'cycle': c_2, 'weight_sum': w_2}\n",
    "                        selected_cycles.append(cycle1)\n",
    "                        selected_cycles.append(cycle2)\n",
    "                        unassigned_vertecies.remove(unassigned_vertex_d)\n",
    "                        print(unassigned_vertex)\n",
    "                        print('cycle added 5')\n",
    "                        break\n",
    "\n",
    "    return selected_cycles"
   ]
  },
  {
   "cell_type": "code",
   "execution_count": null,
   "id": "72598f0c-5896-4c54-a6cb-03218bd579cb",
   "metadata": {},
   "outputs": [],
   "source": []
  },
  {
   "cell_type": "code",
   "execution_count": 53,
   "id": "5ce9e9d2-49fa-4ce6-a967-7d8c16e5e0bd",
   "metadata": {},
   "outputs": [],
   "source": [
    "weight_matrix = np.zeros((num_things, num_things))\n",
    "\n",
    "for arc in data['arcs']:\n",
    "    weight_matrix[arc['donor_id']][arc['patient_id']] = arc['weight']\n"
   ]
  },
  {
   "cell_type": "code",
   "execution_count": null,
   "id": "ddcd6a63-8ac0-4ab0-bb95-c34b80c2acdb",
   "metadata": {},
   "outputs": [],
   "source": []
  },
  {
   "cell_type": "code",
   "execution_count": 73,
   "id": "62f2859d-5239-4d62-a475-bc6d2bf67c82",
   "metadata": {},
   "outputs": [
    {
     "name": "stdout",
     "output_type": "stream",
     "text": [
      "Step 2\n",
      "step3 done\n",
      "1\n",
      "34\n",
      "cycle added4\n",
      "[{'id': 157, 'cycle': (51, 85, 187, 51), 'weight_sum': 234}, {'id': 193, 'cycle': (20, 139, 142, 20), 'weight_sum': 183}, {'id': 133, 'cycle': (52, 93, 154, 52), 'weight_sum': 174}, {'id': 1750, 'cycle': [193, 6, 50], 'weight_sum': 174}, {'id': 2895, 'cycle': [196, 105, 171], 'weight_sum': 173}, {'id': 235, 'cycle': (24, 182, 72, 24), 'weight_sum': 172}, {'id': 2277, 'cycle': [195, 57, 76], 'weight_sum': 171}, {'id': 1032, 'cycle': [190, 167, 70], 'weight_sum': 170}, {'id': 1401, 'cycle': [192, 74, 35], 'weight_sum': 169}, {'id': 97, 'cycle': (73, 141, 189, 73), 'weight_sum': 155}, {'id': 3201, 'cycle': [198, 159, 152], 'weight_sum': 146}, {'id': 3228, 'cycle': [199, 90, 123], 'weight_sum': 74}, {'id': 134, 'cycle': (140, 145, 140), 'weight_sum': 60}, {'id': 33331, 'cycle': [79, 34, 79], 'weight_sum': 51}, {'id': 33332, 'cycle': [149, 54, 149], 'weight_sum': 78}]\n",
      "35 2184\n"
     ]
    }
   ],
   "source": [
    "uv = []\n",
    "for item in data['pairs']:\n",
    "    uv.append(item['id'])\n",
    "selected, remaining = largest_weight_heuristic(c)\n",
    "selected_cycles = heuristic_with_lns(selected, remaining, uv, weight_matrix)\n",
    "print(selected_cycles)\n",
    "\n",
    "transplants_made, total_weight = get_stats(selected_cycles, weight_matrix)\n",
    "\n",
    "print(transplants_made, total_weight)"
   ]
  },
  {
   "cell_type": "code",
   "execution_count": 48,
   "id": "a889e2da-e36b-4c84-8193-e6731d8f0b42",
   "metadata": {},
   "outputs": [
    {
     "data": {
      "text/plain": [
       "0"
      ]
     },
     "execution_count": 48,
     "metadata": {},
     "output_type": "execute_result"
    }
   ],
   "source": []
  },
  {
   "cell_type": "markdown",
   "id": "89597dfc-db20-4300-b695-92f1c94f1675",
   "metadata": {},
   "source": [
    "Advanced Constructive heuristic"
   ]
  },
  {
   "cell_type": "code",
   "execution_count": 74,
   "id": "13e48a4a-0be8-42ea-9a7a-b15ea2bf772c",
   "metadata": {},
   "outputs": [],
   "source": [
    "def add_info(data):\n",
    "    p = []\n",
    "    G = create_graph(data)\n",
    "    for pair in G.nodes:\n",
    "        info = {'patient_type':data['pairs'][pair]['patient_blood_type'], 'pot_donors' : len(list(G.predecessors(pair)))}\n",
    "        data['pairs'][pair]['Av_donors'] = len(list(G.predecessors(pair)))\n",
    "        p.append(info)\n",
    "    p[0:3]\n",
    "    \n",
    "    d = []\n",
    "    G = create_graph(data)\n",
    "    for pair in G.nodes:\n",
    "        info = {'donor_type':data['pairs'][pair]['donor_blood_type'], 'recipients' : len(list(G.successors(pair)))}\n",
    "        data['pairs'][pair]['Av_recip'] = len(list(G.successors(pair)))\n",
    "    \n",
    "        d.append(info)\n",
    "    d[0:3]\n",
    "    return data"
   ]
  },
  {
   "cell_type": "code",
   "execution_count": 75,
   "id": "2df5aef3-155c-4c38-90e9-aca527afcb75",
   "metadata": {},
   "outputs": [],
   "source": [
    "def sort_cycles(c):\n",
    "    for cycle in c:\n",
    "        cyc = cycle['cycle']\n",
    "        tot = 0\n",
    "        mini = []\n",
    "        for rec in range(1,len(cyc)):\n",
    "            curr = cyc[rec]\n",
    "            curr_num = data['pairs'][curr]['Av_donors']\n",
    "            tot += curr_num\n",
    "            mini.append(curr_num)\n",
    "        #cycle['total_Av_donors'] = tot\n",
    "        cycle['min_donors'] = min(mini)\n",
    "        cycle['max_donors'] = max(mini)\n",
    "        for don in range(0,len(cyc)-1):\n",
    "            curr = cyc[don]\n",
    "            curr_num = data['pairs'][curr]['Av_recip']\n",
    "            tot += curr_num\n",
    "            mini.append(curr_num)\n",
    "        #cycle['total_Av_recip'] = tot\n",
    "        cycle['min_recip'] = min(mini)\n",
    "        cycle['max_recip'] = max(mini)\n",
    "\n",
    "    sorted_data = sorted(c, key=lambda x: x['min_donors']+x['max_recip'], reverse=False)\n",
    "    return sorted_data\n",
    "\n",
    "\n"
   ]
  },
  {
   "cell_type": "code",
   "execution_count": 78,
   "id": "dac35a27-585c-4c4c-88ed-38e41ed3abb9",
   "metadata": {},
   "outputs": [],
   "source": [
    "def dd_heuristic(cycles):\n",
    "    selected_cycles = []\n",
    "    while cycles:\n",
    "        # Find the cycle where recipient with fewest option, plus donor with the most potential is minimized\n",
    "        desperate_donor_cycle = min(cycles, key=lambda x: (5*x['min_donors']+x['max_recip'])/(len(x['cycle'])-1))\n",
    "\n",
    "        # Remove cycles that are not disjoint from the selected cycles\n",
    "        disjoint_cycles = [c for c in cycles if not set(desperate_donor_cycle['cycle']).intersection(set(c['cycle']))]\n",
    "\n",
    "        # Add the selected cycle to the list of selected cycles\n",
    "        selected_cycles.append(desperate_donor_cycle)\n",
    "        cycles = disjoint_cycles\n",
    "    return selected_cycles, cycles"
   ]
  },
  {
   "cell_type": "code",
   "execution_count": 82,
   "id": "461d1d5e-1e57-437b-94ee-93c6d5fe30f8",
   "metadata": {},
   "outputs": [
    {
     "name": "stdout",
     "output_type": "stream",
     "text": [
      "[{'id': 3229, 'cycle': [199, 90, 152], 'weight_sum': 65, 'min_donors': 3, 'max_donors': 5, 'min_recip': 3, 'max_recip': 9}, {'id': 3206, 'cycle': [198, 175, 73], 'weight_sum': 117, 'min_donors': 4, 'max_donors': 14, 'min_recip': 4, 'max_recip': 14}, {'id': 144, 'cycle': (22, 170, 141, 22), 'weight_sum': 104, 'min_donors': 1, 'max_donors': 21, 'min_recip': 1, 'max_recip': 56}, {'id': 259, 'cycle': (132, 157, 154, 132), 'weight_sum': 78, 'min_donors': 1, 'max_donors': 7, 'min_recip': 1, 'max_recip': 57}, {'id': 274, 'cycle': (20, 167, 91, 20), 'weight_sum': 59, 'min_donors': 1, 'max_donors': 19, 'min_recip': 1, 'max_recip': 61}, {'id': 248, 'cycle': (77, 139, 79, 77), 'weight_sum': 101, 'min_donors': 4, 'max_donors': 23, 'min_recip': 4, 'max_recip': 54}, {'id': 2863, 'cycle': [196, 105, 58], 'weight_sum': 161, 'min_donors': 1, 'max_donors': 2, 'min_recip': 1, 'max_recip': 57}, {'id': 2484, 'cycle': [195, 134, 3], 'weight_sum': 117, 'min_donors': 2, 'max_donors': 10, 'min_recip': 2, 'max_recip': 57}, {'id': 2188, 'cycle': [194, 159, 185], 'weight_sum': 19, 'min_donors': 11, 'max_donors': 13, 'min_recip': 5, 'max_recip': 13}, {'id': 736, 'cycle': [190, 78, 13], 'weight_sum': 80, 'min_donors': 3, 'max_donors': 5, 'min_recip': 3, 'max_recip': 58}, {'id': 1333, 'cycle': [192, 63, 5], 'weight_sum': 83, 'min_donors': 3, 'max_donors': 44, 'min_recip': 3, 'max_recip': 59}, {'id': 1951, 'cycle': [193, 117, 125], 'weight_sum': 113, 'min_donors': 5, 'max_donors': 13, 'min_recip': 5, 'max_recip': 53}, {'id': 138, 'cycle': (72, 85, 182, 72), 'weight_sum': 108, 'min_donors': 7, 'max_donors': 87, 'min_recip': 1, 'max_recip': 87}, {'id': 134, 'cycle': (140, 145, 140), 'weight_sum': 60, 'min_donors': 5, 'max_donors': 10, 'min_recip': 5, 'max_recip': 62}, {'id': 142, 'cycle': (29, 54, 29), 'weight_sum': 89, 'min_donors': 9, 'max_donors': 51, 'min_recip': 5, 'max_recip': 53}, {'id': 1138, 'cycle': [191, 24, 8], 'weight_sum': 66, 'min_donors': 26, 'max_donors': 161, 'min_recip': 2, 'max_recip': 161}, {'id': 3130, 'cycle': [197, 50, 123], 'weight_sum': 43, 'min_donors': 98, 'max_donors': 105, 'min_recip': 6, 'max_recip': 105}]\n",
      "total transplants: 39, 1463\n"
     ]
    }
   ],
   "source": [
    "data = add_info(data)\n",
    "newc = sort_cycles(c)\n",
    "selected_cycles, cycles = dd_heuristic(newc)\n",
    "print(selected_cycles)\n",
    "transplants_made, total_weight = get_stats(selected_cycles, weight_matrix)\n",
    "\n",
    "\n",
    "print('total transplants: {}, {}'.format(transplants_made, total_weight))"
   ]
  },
  {
   "cell_type": "code",
   "execution_count": null,
   "id": "36cc925e-86b9-4f17-8dd3-058d91fb94c6",
   "metadata": {},
   "outputs": [],
   "source": []
  },
  {
   "cell_type": "code",
   "execution_count": 85,
   "id": "3359054a-e562-4fb9-ab19-d1ff792c8dc0",
   "metadata": {},
   "outputs": [
    {
     "name": "stdout",
     "output_type": "stream",
     "text": [
      "Step 2\n",
      "step3 done\n",
      "1\n",
      "cycle added 2\n",
      "[{'id': 3229, 'cycle': [199, 90, 152], 'weight_sum': 65, 'min_donors': 3, 'max_donors': 5, 'min_recip': 3, 'max_recip': 9}, {'id': 3206, 'cycle': [198, 175, 73], 'weight_sum': 117, 'min_donors': 4, 'max_donors': 14, 'min_recip': 4, 'max_recip': 14}, {'id': 144, 'cycle': (22, 170, 141, 22), 'weight_sum': 104, 'min_donors': 1, 'max_donors': 21, 'min_recip': 1, 'max_recip': 56}, {'id': 259, 'cycle': (132, 157, 154, 132), 'weight_sum': 78, 'min_donors': 1, 'max_donors': 7, 'min_recip': 1, 'max_recip': 57}, {'id': 274, 'cycle': (20, 167, 91, 20), 'weight_sum': 59, 'min_donors': 1, 'max_donors': 19, 'min_recip': 1, 'max_recip': 61}, {'id': 248, 'cycle': (77, 139, 79, 77), 'weight_sum': 101, 'min_donors': 4, 'max_donors': 23, 'min_recip': 4, 'max_recip': 54}, {'id': 2863, 'cycle': [196, 105, 58], 'weight_sum': 161, 'min_donors': 1, 'max_donors': 2, 'min_recip': 1, 'max_recip': 57}, {'id': 2484, 'cycle': [195, 134, 3], 'weight_sum': 117, 'min_donors': 2, 'max_donors': 10, 'min_recip': 2, 'max_recip': 57}, {'id': 2188, 'cycle': [194, 159, 185], 'weight_sum': 19, 'min_donors': 11, 'max_donors': 13, 'min_recip': 5, 'max_recip': 13}, {'id': 736, 'cycle': [190, 78, 13], 'weight_sum': 80, 'min_donors': 3, 'max_donors': 5, 'min_recip': 3, 'max_recip': 58}, {'id': 1333, 'cycle': [192, 63, 5], 'weight_sum': 83, 'min_donors': 3, 'max_donors': 44, 'min_recip': 3, 'max_recip': 59}, {'id': 1951, 'cycle': [193, 117, 125], 'weight_sum': 113, 'min_donors': 5, 'max_donors': 13, 'min_recip': 5, 'max_recip': 53}, {'id': 138, 'cycle': (72, 85, 182, 72), 'weight_sum': 108, 'min_donors': 7, 'max_donors': 87, 'min_recip': 1, 'max_recip': 87}, {'id': 134, 'cycle': (140, 145, 140), 'weight_sum': 60, 'min_donors': 5, 'max_donors': 10, 'min_recip': 5, 'max_recip': 62}, {'id': 1138, 'cycle': [191, 24, 8], 'weight_sum': 66, 'min_donors': 26, 'max_donors': 161, 'min_recip': 2, 'max_recip': 161}, {'id': 3130, 'cycle': [197, 50, 123], 'weight_sum': 43, 'min_donors': 98, 'max_donors': 105, 'min_recip': 6, 'max_recip': 105}, {'id': 222222, 'cycle': [29, 54, 53, 29], 'weight_sum': np.float64(95.0)}]\n",
      "total transplants: 40, 1444\n"
     ]
    }
   ],
   "source": [
    "data = add_info(data)\n",
    "newc = sort_cycles(c)\n",
    "selected, remaining = dd_heuristic(newc)\n",
    "sc = heuristic_with_lns(selected, remaining, uv, weight_matrix)\n",
    "print(sc)\n",
    "\n",
    "transplants_made, total_weight = get_stats(sc, weight_matrix)\n",
    "\n",
    "print('total transplants: {}, {}'.format(transplants_made, total_weight))"
   ]
  },
  {
   "cell_type": "markdown",
   "id": "0dc22039-9a52-4ba6-ad10-210c914fc074",
   "metadata": {},
   "source": [
    "Note:  Remove cycles with most max_recip/max_donors after TOTAL_WEIGHT_HUERISTIC. THen reconfigure cycles according to dd or lw heuristic"
   ]
  },
  {
   "cell_type": "code",
   "execution_count": null,
   "id": "f2f6a20f-a8f2-4e56-b4d5-65947473fb9c",
   "metadata": {},
   "outputs": [],
   "source": []
  },
  {
   "cell_type": "code",
   "execution_count": null,
   "id": "07fb7021-48e4-4df7-9317-94c946bb10fa",
   "metadata": {},
   "outputs": [],
   "source": []
  },
  {
   "cell_type": "code",
   "execution_count": 115,
   "id": "e8b7539e-b6a1-4a3b-b8f6-5650bbe3893c",
   "metadata": {},
   "outputs": [
    {
     "data": {
      "text/plain": [
       "200"
      ]
     },
     "execution_count": 115,
     "metadata": {},
     "output_type": "execute_result"
    }
   ],
   "source": [
    "len(G.nodes)"
   ]
  },
  {
   "cell_type": "markdown",
   "id": "57d95b88-0c5c-44d8-b569-80e553129e33",
   "metadata": {},
   "source": [
    "### EDA on blood type"
   ]
  },
  {
   "cell_type": "code",
   "execution_count": 14,
   "id": "0dbb552d-d168-464f-bbf7-4b7cbf616e7c",
   "metadata": {},
   "outputs": [
    {
     "data": {
      "text/plain": [
       "{'id': 198,\n",
       " 'is_ndd': False,\n",
       " 'donor_blood_type': 1,\n",
       " 'patient_blood_type': 0,\n",
       " 'patient_vpra': 2}"
      ]
     },
     "execution_count": 14,
     "metadata": {},
     "output_type": "execute_result"
    }
   ],
   "source": [
    "data['pairs'][198]"
   ]
  },
  {
   "cell_type": "code",
   "execution_count": null,
   "id": "15368bec-f67d-4032-8950-110768768206",
   "metadata": {},
   "outputs": [],
   "source": []
  },
  {
   "cell_type": "code",
   "execution_count": null,
   "id": "14b7b654-cd3c-479d-89ef-bf20dd35a98a",
   "metadata": {},
   "outputs": [],
   "source": []
  },
  {
   "cell_type": "code",
   "execution_count": null,
   "id": "d63823ab-8c5c-443d-98fe-7c5701723da8",
   "metadata": {},
   "outputs": [],
   "source": []
  },
  {
   "cell_type": "code",
   "execution_count": 18,
   "id": "d941a29d-afe3-4144-bb21-d318a730224d",
   "metadata": {},
   "outputs": [
    {
     "data": {
      "text/plain": [
       "{1: 11.676229508196721,\n",
       " 3: 0.6666666666666666,\n",
       " 2: 10.289855072463768,\n",
       " 0: 117.91160220994475}"
      ]
     },
     "execution_count": 18,
     "metadata": {},
     "output_type": "execute_result"
    }
   ],
   "source": [
    "sums = {}\n",
    "counts = {}\n",
    "for i in d:\n",
    "    key =i['donor_type']\n",
    "    if key not in sums:\n",
    "        sums[key] = i['recipients']\n",
    "        counts[key] = 1\n",
    "    else:\n",
    "        sums[key] = sums[key] + i['recipients']\n",
    "        counts[key] += 1\n",
    "sums\n",
    "counts\n",
    "avgs = {}\n",
    "for key in sums:\n",
    "    avgs[key] = sums[key]/counts[key]\n",
    "\n",
    "avgs"
   ]
  },
  {
   "cell_type": "code",
   "execution_count": 19,
   "id": "ae75e442-56d9-45fb-8ae3-573c2d5b2489",
   "metadata": {},
   "outputs": [
    {
     "data": {
      "text/plain": [
       "{1: 46.92079207920792,\n",
       " 3: 36.44444444444444,\n",
       " 2: 51.212765957446805,\n",
       " 0: 50.819241982507286}"
      ]
     },
     "execution_count": 19,
     "metadata": {},
     "output_type": "execute_result"
    }
   ],
   "source": [
    "sump = {}\n",
    "count = {}\n",
    "for i in p:\n",
    "    key =i['patient_type']\n",
    "    if key not in sump:\n",
    "        sump[key] = i['pot_donors']\n",
    "        count[key] = 1\n",
    "    else:\n",
    "        sump[key] = sump[key] + i['pot_donors']\n",
    "        count[key] += 1\n",
    "\n",
    "avg = {}\n",
    "for key in sums:\n",
    "    avg[key] = sump[key]/count[key]\n",
    "\n",
    "avg"
   ]
  },
  {
   "cell_type": "code",
   "execution_count": 20,
   "id": "b6781f4f-9197-41ca-8de8-850625608f17",
   "metadata": {},
   "outputs": [
    {
     "data": {
      "image/png": "[encoded data removed]",
      "text/plain": [
       "<Figure size 640x480 with 1 Axes>"
      ]
     },
     "metadata": {},
     "output_type": "display_data"
    }
   ],
   "source": [
    "import matplotlib.pyplot as plt\n",
    "\n",
    "\n",
    "# Extract keys and values\n",
    "labels = list(avgs.keys())\n",
    "values = list(avgs.values())\n",
    "\n",
    "# Create the bar graph\n",
    "plt.bar(labels, values)\n",
    "\n",
    "# Add labels and title\n",
    "plt.xlabel('Blood Type')\n",
    "plt.ylabel('Average # of Recipients')\n",
    "plt.title('Recipients By Donor Blood Type')\n",
    "\n",
    "# Show the plot\n",
    "plt.show()"
   ]
  },
  {
   "cell_type": "code",
   "execution_count": 21,
   "id": "2d8bd18a-c5a2-4ada-900c-4236887fc33f",
   "metadata": {},
   "outputs": [
    {
     "data": {
      "image/png": "[encoded data removed]",
      "text/plain": [
       "<Figure size 640x480 with 1 Axes>"
      ]
     },
     "metadata": {},
     "output_type": "display_data"
    }
   ],
   "source": [
    "import matplotlib.pyplot as plt\n",
    "\n",
    "\n",
    "# Extract keys and values\n",
    "labels = list(avg.keys())\n",
    "values = list(avg.values())\n",
    "\n",
    "# Create the bar graph\n",
    "plt.bar(labels, values)\n",
    "\n",
    "# Add labels and title\n",
    "plt.xlabel('Blood Type')\n",
    "plt.ylabel('Average # of Donors')\n",
    "plt.title('Compatible Donors By PAtient Blood Type')\n",
    "\n",
    "# Show the plot\n",
    "plt.show()"
   ]
  },
  {
   "cell_type": "markdown",
   "id": "f65e504c-daf9-4e60-acb2-7f42facde832",
   "metadata": {},
   "source": [
    "IDEA. Sort by available donors (predecessors of pair i)    Start by selecting cycles where patients with limited options are matched"
   ]
  },
  {
   "cell_type": "code",
   "execution_count": null,
   "id": "ddfcce2a-6fe7-47c6-914e-b75f9332ba5d",
   "metadata": {},
   "outputs": [],
   "source": [
    "def add_info(data):\n",
    "    p = []\n",
    "    G = create_graph(data)\n",
    "    for pair in G.nodes:\n",
    "        info = {'patient_type':data['pairs'][pair]['patient_blood_type'], 'pot_donors' : len(list(G.predecessors(pair)))}\n",
    "        data['pairs'][pair]['Av_donors'] = len(list(G.predecessors(pair)))\n",
    "        p.append(info)\n",
    "    p[0:3]\n",
    "    \n",
    "    d = []\n",
    "    G = create_graph(data)\n",
    "    for pair in G.nodes:\n",
    "        info = {'donor_type':data['pairs'][pair]['donor_blood_type'], 'recipients' : len(list(G.successors(pair)))}\n",
    "        data['pairs'][pair]['Av_recip'] = len(list(G.successors(pair)))\n",
    "    \n",
    "        d.append(info)\n",
    "    d[0:3]\n",
    "    return data"
   ]
  },
  {
   "cell_type": "code",
   "execution_count": null,
   "id": "ef046b35-2a42-4155-b7c2-5c52cc7a7a02",
   "metadata": {},
   "outputs": [],
   "source": []
  },
  {
   "cell_type": "code",
   "execution_count": null,
   "id": "2e6849ef-1f93-4b15-9e74-c530a7712864",
   "metadata": {},
   "outputs": [],
   "source": []
  },
  {
   "cell_type": "markdown",
   "id": "54c29b2b-19fd-4b53-b980-6f0fb7a7a192",
   "metadata": {},
   "source": [
    "Simmulated Annealing"
   ]
  },
  {
   "cell_type": "code",
   "execution_count": null,
   "id": "e55008b8-4e71-4fe4-9130-a8c98ff0d8f8",
   "metadata": {},
   "outputs": [],
   "source": []
  }
 ],
 "metadata": {
  "kernelspec": {
   "display_name": "Python 3 (ipykernel)",
   "language": "python",
   "name": "python3"
  },
  "language_info": {
   "codemirror_mode": {
    "name": "ipython",
    "version": 3
   },
   "file_extension": ".py",
   "mimetype": "text/x-python",
   "name": "python",
   "nbconvert_exporter": "python",
   "pygments_lexer": "ipython3",
   "version": "3.12.5"
  }
 },
 "nbformat": 4,
 "nbformat_minor": 5
}
